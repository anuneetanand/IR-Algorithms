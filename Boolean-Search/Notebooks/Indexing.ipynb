{
 "cells": [
  {
   "cell_type": "markdown",
   "metadata": {},
   "source": [
    "## Unigram Inverted Index Creation\n",
    "---\n",
    "The preprocessed documents are now parsed for creating Unigram Inverted Index. The documents are in alphabetical order of their names and are assigned a numerical ID starting from 0. The mapping of DocID to Doc_Name is stored in **docID.pkl**. Posting lists are created for the terms and the terms are sorted in alphabatical order.The index created is stored in **index.pkl**."
   ]
  },
  {
   "cell_type": "code",
   "execution_count": 1,
   "metadata": {},
   "outputs": [],
   "source": [
    "# Importing relevent modules for Indexing\n",
    "\n",
    "import pickle\n",
    "from collections import OrderedDict "
   ]
  },
  {
   "cell_type": "code",
   "execution_count": 2,
   "metadata": {},
   "outputs": [],
   "source": [
    "# Loading Preprocessed Documents\n",
    "\n",
    "with open(\"../Dumps/docs.pkl\",\"rb\") as file:\n",
    "    Data = pickle.load(file)"
   ]
  },
  {
   "cell_type": "code",
   "execution_count": 3,
   "metadata": {},
   "outputs": [],
   "source": [
    "# Collecting Postings\n",
    "\n",
    "Docs = {}\n",
    "Postings = {}\n",
    "\n",
    "for i in range(len(Data)):\n",
    "    \n",
    "    Docs[i] = Data[i]['doc_name']\n",
    "    Text = list(Data[i]['cleaned_text'].split())\n",
    "    \n",
    "    for j in Text:\n",
    "\n",
    "        if j in Postings:\n",
    "            if Postings[j][-1]!=i:\n",
    "                Postings[j].append(i)\n",
    "        else:\n",
    "            Postings[j] = [i]"
   ]
  },
  {
   "cell_type": "code",
   "execution_count": 4,
   "metadata": {},
   "outputs": [],
   "source": [
    "# Sorting terms in Alphabetical order\n",
    "\n",
    "Terms = list(Postings.keys())\n",
    "Terms.sort()\n",
    "\n",
    "Index = OrderedDict()\n",
    "\n",
    "for i in Terms:\n",
    "    Index[i] = Postings[i]"
   ]
  },
  {
   "cell_type": "code",
   "execution_count": 5,
   "metadata": {},
   "outputs": [
    {
     "name": "stdout",
     "output_type": "stream",
     "text": [
      "Indexed 48918 terms from 467 documents\n"
     ]
    }
   ],
   "source": [
    "print(\"Indexed \"+str(len(Terms))+\" terms from \"+str(len(Docs))+\" documents\")"
   ]
  },
  {
   "cell_type": "code",
   "execution_count": 6,
   "metadata": {},
   "outputs": [],
   "source": [
    "pickle.dump(Index,open('../Dumps/index.pkl','wb'))\n",
    "pickle.dump(Docs,open('../Dumps/docID.pkl','wb'))"
   ]
  }
 ],
 "metadata": {
  "kernelspec": {
   "display_name": "Python 3",
   "language": "python",
   "name": "python3"
  },
  "language_info": {
   "codemirror_mode": {
    "name": "ipython",
    "version": 3
   },
   "file_extension": ".py",
   "mimetype": "text/x-python",
   "name": "python",
   "nbconvert_exporter": "python",
   "pygments_lexer": "ipython3",
   "version": "3.8.2"
  }
 },
 "nbformat": 4,
 "nbformat_minor": 4
}
